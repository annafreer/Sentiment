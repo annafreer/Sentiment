{
 "cells": [
  {
   "cell_type": "markdown",
   "metadata": {},
   "source": [
    "# Sentiment Analysis and Natural Language processing\n",
    "\n",
    "Before we begin, important things to keep in mind:\n",
    "\n",
    "1. The enviroment you create at the begining, you only have to create it once. Afterwards, you can access the same enviroment with `conda activate name_of_environment`. If you do not remember the name of the environment you created, you can type `conda env list` to see all the existing environments you currently have in your system. \n",
    "\n",
    "2. If you are going to follow the instructions of this notebook exactly, just make sure that the folder structure you have looks the same as:\n",
    "    - data : This is going to be the folder where you save all the data you are going to use for the analysis and processing. \n",
    "    - outputs : Here is where all the outputs are going to go (For example, the post processing dataset, the data visualization, etc.)\n",
    "    - sentiment_analysis.ipynb : This is the main notebook. \n",
    "\n",
    "3. Please read the comments on the code as some of the cells only need to be run once (the first time you run the notebook) and after that, you only need to run them again if you change to another conda environment.\n"
   ]
  },
  {
   "cell_type": "markdown",
   "metadata": {},
   "source": [
    "First we explain the different libraries we are going to be mainly using. First, we create an enviroment specialized for sentiment analysis\n",
    "\n",
    "- `conda create -n sentiment python=3.9 -y`\n",
    "- `conda activate sentiment`\n",
    "\n",
    "Once you have the environment and have activated it, we can asign the kernel to this notebook. This kernel should be in the right-upper corner of your screen. \n",
    "\n",
    "## Installing the libraries\n",
    "\n",
    "This instalation should only be done once, and please make sure that you are inside the conda environment before installing anything.\n",
    "\n",
    "- pip install pandas\n",
    "- pip install matplotlib\n",
    "- pip install seaborn\n",
    "- pip install scikit-learn\n",
    "- pip install nltk\n",
    "- pip install scipy\n",
    "- pip install textblob\n",
    "- pip install vaderSentiment\n",
    "- pip install datasets\n"
   ]
  },
  {
   "cell_type": "code",
   "execution_count": 49,
   "metadata": {},
   "outputs": [],
   "source": [
    "# Data handling\n",
    "\n",
    "import pandas as pd\n",
    "import numpy as np\n",
    "import os, sys, string, re, csv"
   ]
  },
  {
   "cell_type": "code",
   "execution_count": 50,
   "metadata": {},
   "outputs": [],
   "source": [
    "# Data visualization\n",
    "\n",
    "import matplotlib.pyplot as plt\n",
    "%matplotlib inline\n",
    "from matplotlib import style\n",
    "import seaborn as sns"
   ]
  },
  {
   "cell_type": "code",
   "execution_count": 51,
   "metadata": {},
   "outputs": [],
   "source": [
    "# Data processing and manipulation\n",
    "\n",
    "import sklearn \n",
    "from sklearn.model_selection import train_test_split, GridSearchCV\n",
    "from sklearn.metrics import confusion_matrix, classification_report, accuracy_score\n",
    "from sklearn.feature_extraction.text import TfidfTransformer, TfidfVectorizer\n",
    "from sklearn.ensemble import RandomForestClassifier\n",
    "\n",
    "from scipy.spatial.distance import cosine\n",
    "\n",
    "import nltk\n"
   ]
  },
  {
   "cell_type": "markdown",
   "metadata": {},
   "source": [
    "## IMPORTANT:\n",
    "\n",
    "This next cell imports the corpus of the nltk library, so they should only be run once in the code. If you restart the kernel, they might need to be run again. "
   ]
  },
  {
   "cell_type": "code",
   "execution_count": 52,
   "metadata": {},
   "outputs": [
    {
     "name": "stderr",
     "output_type": "stream",
     "text": [
      "[nltk_data] Downloading package stopwords to\n",
      "[nltk_data]     /Users/annafreer/nltk_data...\n",
      "[nltk_data]   Package stopwords is already up-to-date!\n",
      "[nltk_data] Downloading package punkt to /Users/annafreer/nltk_data...\n",
      "[nltk_data]   Package punkt is already up-to-date!\n",
      "[nltk_data] Downloading package wordnet to\n",
      "[nltk_data]     /Users/annafreer/nltk_data...\n",
      "[nltk_data]   Package wordnet is already up-to-date!\n",
      "[nltk_data] Downloading package averaged_perceptron_tagger to\n",
      "[nltk_data]     /Users/annafreer/nltk_data...\n",
      "[nltk_data]   Package averaged_perceptron_tagger is already up-to-\n",
      "[nltk_data]       date!\n",
      "[nltk_data] Downloading package sentiwordnet to\n",
      "[nltk_data]     /Users/annafreer/nltk_data...\n",
      "[nltk_data]   Package sentiwordnet is already up-to-date!\n"
     ]
    },
    {
     "data": {
      "text/plain": [
       "True"
      ]
     },
     "execution_count": 52,
     "metadata": {},
     "output_type": "execute_result"
    }
   ],
   "source": [
    "# This part only has to be run once.\n",
    "\n",
    "nltk.download('stopwords')\n",
    "nltk.download('punkt')\n",
    "nltk.download('wordnet')\n",
    "nltk.download('averaged_perceptron_tagger')\n",
    "nltk.download('sentiwordnet')"
   ]
  },
  {
   "cell_type": "code",
   "execution_count": 53,
   "metadata": {},
   "outputs": [],
   "source": [
    "from nltk.tokenize import word_tokenize\n",
    "from nltk import pos_tag\n",
    "from nltk.corpus import stopwords\n",
    "from nltk.corpus import wordnet\n",
    "from nltk.stem import WordNetLemmatizer\n",
    "from nltk.corpus import sentiwordnet as swn\n",
    "\n",
    "from textblob import TextBlob\n",
    "from vaderSentiment.vaderSentiment import SentimentIntensityAnalyzer"
   ]
  },
  {
   "cell_type": "markdown",
   "metadata": {},
   "source": [
    "# Step 1: Data input\n",
    "\n",
    "In this first step, we need to have our variables set up with the data that we are going to pre process and analyse.\n"
   ]
  },
  {
   "cell_type": "code",
   "execution_count": 55,
   "metadata": {},
   "outputs": [
    {
     "name": "stderr",
     "output_type": "stream",
     "text": [
      "Generating train split: 87 examples [00:00, 2829.33 examples/s]\n"
     ]
    }
   ],
   "source": [
    "\n",
    "from datasets import load_dataset\n",
    "# Loading the data\n",
    "dataset = load_dataset(\"text\", data_files={\"train\": \"annajournal - Sheet1.csv\"})\n"
   ]
  },
  {
   "cell_type": "markdown",
   "metadata": {},
   "source": [
    "When we print the dataset, we can see that it is not a regular format, but a dictionary. In this case we need to update it to be able to visualize it with pandas. "
   ]
  },
  {
   "cell_type": "code",
   "execution_count": 56,
   "metadata": {},
   "outputs": [
    {
     "name": "stdout",
     "output_type": "stream",
     "text": [
      "DatasetDict({\n",
      "    train: Dataset({\n",
      "        features: ['text'],\n",
      "        num_rows: 87\n",
      "    })\n",
      "})\n"
     ]
    }
   ],
   "source": [
    "print(dataset)"
   ]
  },
  {
   "cell_type": "markdown",
   "metadata": {},
   "source": [
    "Datasets from hugging face have a module called `set_format` where you can choose how to manipulate your data. The most common one is pandas, so that way you can translate to other modes like csv, txt, json, etc."
   ]
  },
  {
   "cell_type": "code",
   "execution_count": 57,
   "metadata": {},
   "outputs": [
    {
     "name": "stdout",
     "output_type": "stream",
     "text": [
      "Index(['text'], dtype='object')\n"
     ]
    },
    {
     "data": {
      "text/html": [
       "<div>\n",
       "<style scoped>\n",
       "    .dataframe tbody tr th:only-of-type {\n",
       "        vertical-align: middle;\n",
       "    }\n",
       "\n",
       "    .dataframe tbody tr th {\n",
       "        vertical-align: top;\n",
       "    }\n",
       "\n",
       "    .dataframe thead th {\n",
       "        text-align: right;\n",
       "    }\n",
       "</style>\n",
       "<table border=\"1\" class=\"dataframe\">\n",
       "  <thead>\n",
       "    <tr style=\"text-align: right;\">\n",
       "      <th></th>\n",
       "      <th>text</th>\n",
       "    </tr>\n",
       "  </thead>\n",
       "  <tbody>\n",
       "    <tr>\n",
       "      <th>0</th>\n",
       "      <td>Data,Entry</td>\n",
       "    </tr>\n",
       "    <tr>\n",
       "      <th>1</th>\n",
       "      <td>12 September,\"Fresh book, fresh start. With th...</td>\n",
       "    </tr>\n",
       "    <tr>\n",
       "      <th>2</th>\n",
       "      <td>13 September,\"I had a really good day yesterda...</td>\n",
       "    </tr>\n",
       "  </tbody>\n",
       "</table>\n",
       "</div>"
      ],
      "text/plain": [
       "                                                text\n",
       "0                                         Data,Entry\n",
       "1  12 September,\"Fresh book, fresh start. With th...\n",
       "2  13 September,\"I had a really good day yesterda..."
      ]
     },
     "execution_count": 57,
     "metadata": {},
     "output_type": "execute_result"
    }
   ],
   "source": [
    "dataset.set_format(type='pandas')\n",
    "\n",
    "df = dataset['train'][:]\n",
    "print(df.columns)\n",
    "df.head(3)"
   ]
  },
  {
   "cell_type": "markdown",
   "metadata": {},
   "source": [
    "Now that we have it as a pandas data frame, you can use the same features discussed in the data processing module we saw in previous workshops. In this case, `value_counts()` helps you find out the unique values of the column you indicate, while also giving you the amount of times this value is repeated.\n",
    "\n",
    "For this case we use the prompt type to separate. As we can see, we have a pretty evenly distributed set of prompts"
   ]
  },
  {
   "cell_type": "code",
   "execution_count": 58,
   "metadata": {},
   "outputs": [
    {
     "data": {
      "text/plain": [
       "text\n",
       "Data,Entry                                                                                                                                                                                                                                                                                                                                                                                                                                                                                                                                                                                                                                                                                                                                                                                                                                                                                                                                                                                                                                                                                                                                                                                                                                                                                                                                                                                                                                                                                                                                                                                                                                                                                                                                                                                                                                                                                                                                                                                                                                                                                                                                                                                                                                                                                      1\n",
       "4 December,\"Dear Anna, I let myself slip this weekend. Add a really good time but it's actually not really what I want at the moment. I don't want to be waking up tired on Monday because of the weekend. I won't be running in the mornings. I want to be ready for uni on Monday morning. Want to feel clean. I'm tired of waking up hungry. This week I will eat 3 meals a day. No excuses this week we're gonna smash it. I'm going to look after myself and focus see how I feel next Monday.Love you, Anna x\"                                                                                                                                                                                                                                                                                                                                                                                                                                                                                                                                                                                                                                                                                                                                                                                                                                                                                                                                                                                                                                                                                                                                                                                                                                                                                                                                                                                                                                                                                                                                                                                                                                                                                                                                                                            1\n",
       "27 December,\"Dear Anna, Life has been really busy lately I need to make sure self-care and reflection is more integrated in my daily life , at the moment it feels like the first thing I forget. I also keep forgetting to take my meds. I think a more grounded routine in the new year will help with that. I'm really proud of myself and the way I've handled December. I haven't been perfect but I could have let December break me but I didn't. December help me move on from Jacob, make new friends and realise how important Phoenix and Camo are in my life. It also shown me how fragile I am. I don't mean that in a bad way I'm just reflecting but every night I went on I got with someone different and I think this is because I feel the need for love. I need to keep loving myself and practise being comfortable alone. All that I had fun and I don't regret anyone I got with, I need to be more safe about it. It’s definitely time for an STI text. I had a nice time at Christmas with my family. It was very quiet, Em + George’s mental health aren't so good at the moment and I definitely let it over shadow mine as per. I really need to tell mum and dad I want private therapy I don't know why it's so hard to ask for help. I need to do my year in review, I think it's going to be difficult to face 2023.First I’m gonna write 24 Goals for 2024 1. Learn to juggle 2. Run Hackney Half 3. Make Clothing 4. Work a festival 5. Paint a self portrait 6. Travel to a new country7. Find a football team8. Visit an exhibition every month9. Find a new hobby10. Write down memories11. Fall in love12.  Make a new bestie13. Find forgiveness 14. Therapy < do some 15. Find a new way to express self compassion16. Get a new tattoo 17. Make Jewellery 18. Cut down screen time 19. Go on lads holiday 20. Find perfect rave outfit 21.  22.  23.  24.  \"                                                                                                                                                                                                                                                                                                                                                                                           1\n",
       "20 December,\"Dear Anna, I decided to be naughty Anna for the next 10 days and in the new year I'll be good. I need to get something off my chest. I really fancy this guy from work. I can already feel that I'm going to look back at this and laugh. His energy infectious. He makes me laugh, keeps me on my toes. I just think he’s fit as fuck. I'm might ask him on a date. I wanna play mini golf.  It's so intrusive. I like him, I like the negging, I wanna know more. Anyway moving on, I slept with Fi again last night. It was good but I don't think I have feelings for her which is a shame I can't change that. My mind's been running a mile a minute recently. I think I need to make more time to process and reflect how I'm actually feeling. I do feel a big change coming soon and I need to be steering it. I love myself, always, flaws and allLove Anna\"                                                                                                                                                                                                                                                                                                                                                                                                                                                                                                                                                                                                                                                                                                                                                                                                                                                                                                                                                                                                                                                                                                                                                                                                                                                                                                                                                                                                             1\n",
       "14 December,\"Dear Anna, I woke up at 2am today And  set so many alarms. I wanted to go for a run this morning but now I don't have time. I don't understand why my body needed to sleep that much maybe because I didn't have much planned for today. I'm going to realign and go charity shop shopping try to get some fresh air maybe I'll go for a walk in the park. I'm seeing Yaz tonight so I don't have loads of time to mill about but I'm going to make time for myself it's hard to not get annoyed at myself when stuff like this happens but it's OK really not the end of the world I just want to feel better for later on.Lots of LoveAnna\"                                                                                                                                                                                                                                                                                                                                                                                                                                                                                                                                                                                                                                                                                                                                                                                                                                                                                                                                                                                                                                                                                                                                                                                                                                                                                                                                                                                                                                                                                                                                                                                                                                      1\n",
       "                                                                                                                                                                                                                                                                                                                                                                                                                                                                                                                                                                                                                                                                                                                                                                                                                                                                                                                                                                                                                                                                                                                                                                                                                                                                                                                                                                                                                                                                                                                                                                                                                                                                                                                                                                                                                                                                                                                                                                                                                                                                                                                                                                                                                                                                                               ..\n",
       "20 October,\"This really fucking works. I remembered my dreams. The first one was a bit crazy we were at my house(my parents) with lots of people from London, Paris, Jacob, Cameron and Jacob uni mates. I should above water and ask Jay to open it'cause it would spray everywhere and it went over me. I also had loads of wedding dresses. One point someones dog, which look like pip naomi's dog attacked are chickens and Emily saved it. The second dream we were all sat around a dinner table and I was looking at old photos and behind me Jay whispered but I looked beautiful and then I zoomed in on everyone RJ looked like Jeffrey Dahmer and Anastasia looked beautiful as ever. Then he told me to go upstairs to his room and I got on top of him like we used to And then he said what we gonna do and I woke up.I can't believe how vivid they were beautiful they really. I wonder if you can dream likely? I'm in a kind of limbo but it makes sense actually.I need to get ready for my cool but I'm going to journal later love you, dreams and allAnna  First talking therapy where am I and what is going on?Reflect on own needs strategiesmaslow's hierarchy of need self actualization esteem needs belonging and love needs safety physiological needs Stephen Covey circle the seven habits of highly effective people 1989 within my control within my sphere of influence out of my controlcan control: how I take care of myself how I approach work what I read what I buy what I give my attention to, time and energy to cannot control: football economy natural disaster weather whatever people think of me if we try to change the uncontrollable we spend less time on the controllable and can make us feel worse five areas model: situation, thoughts, emotions, behaviour, physical sensations put your own oxygen mask on before others stress bucket relaxation: activate rest and restore counterbalance stress heart rate and respiration rates walk music five things see, four things here, three things feel, two things smell, one taste. Yoga Doodle Drawing Painting watching filmsprogressive muscle relaxation the need for focus -Worry management the need for balance-time management the need for connection - assertiveness\"    1\n",
       "19 October,I want to remember my dream                                                                                                                                                                                                                                                                                                                                                                                                                                                                                                                                                                                                                                                                                                                                                                                                                                                                                                                                                                                                                                                                                                                                                                                                                                                                                                                                                                                                                                                                                                                                                                                                                                                                                                                                                                                                                                                                                                                                                                                                                                                                                                                                                                                                                                                          1\n",
       "18 October,\"Dear Anna, I'm feeling quite good today actually I might do some uni work. Me and yours went to play 30 and I actually got a good night's sleep. My life is pretty slow at the moment but it still feels quite a lot. I'm just kind of going with the motion but I feel a bit stranger and I want to focus on myself I just have to work out how. I want to throw myself into uni and my practise.Things I want to feel comfortable in: myself I deserve respect I deserve love I am smart I have a lot to offer the world my voice should be heard I have talent I'm a hard worker I am beautiful  I'm strong minded I own my own opinions I am worthy companion I'm a good friend I love myself I am loved by others I deserve only healthy relationships It's OK to need help I am my own individual I deserve someone who would cross oceans for me I deserve open communication I'm capable of many things I can handle any situation that comes my way Whatever is meant to stay will stay I am kind and I believe that I deserve good things Anna\"                                                                                                                                                                                                                                                                                                                                                                                                                                                                                                                                                                                                                                                                                                                                                                                                                                                                                                                                                                                                                                                                                                                                                                                                                           1\n",
       "17 October,\"Dear Anna, I've got my fucked head in an absolute state about Jacob man. I don't know what to do so I was feeling pretty good like I'm getting over it was kind of defending myself and my decisions more. And then I guess we had a nice time at his the other day and he's sending me fucking Rachel Chinrioni tickets, back to texting about pointless shite. Bus he's got this gig coming up which he made a hinge for come to find a day and I heard the music and she's  fucking great. So I got all worked up like I wanna go but I don't wanna seem weird or like making moves. I just wanna go to the gig if he's not going with anyone else. I feel kinda in limbo and I don’t know if I'm Deeping it too much Income worried if I get too close I'm gonna fall for him again and get myself hurt. I also kind of worried about sending mixed signals. I need to think about what I want realistically I don't care about the gig I would be anxious anyway. I want Jacob to be in my life but with enough space that I can grow and focus on myself. He really helpful understand my issues but then also I can't help but have some feelings towards him.new line I trust in myself to learn from previous experiences and to do what's best for me. lots of love. Anna\"                                                                                                                                                                                                                                                                                                                                                                                                                                                                                                                                                                                                                                                                                                                                                                                                                                                                                                                                                                                                1\n",
       "28 January,\"Dear Anna, Feeling pretty good, racing thoughts but manageable. I had breaky with Lily and Sinead was lovely. I want to plan out my week.A friend like Max.You were my Max, the type of boy who messages happy birthday at 6:00 AM, the type of boy he drunk texts but reacts at 2:43 and messages the next day. The type who writes: your waist is photosynthesizing but deliberately typos to cover the confusion.The boy you run from till the time is right, the boy who crosses oceans to find you have a boyfriend, the boy I would wait an eternity for. Just in case the time is right.\"                                                                                                                                                                                                                                                                                                                                                                                                                                                                                                                                                                                                                                                                                                                                                                                                                                                                                                                                                                                                                                                                                                                                                                                                                                                                                                                                                                                                                                                                                                                                                                                                                                                                                    1\n",
       "Name: count, Length: 87, dtype: int64"
      ]
     },
     "execution_count": 58,
     "metadata": {},
     "output_type": "execute_result"
    }
   ],
   "source": [
    "#values, counts = np.unique(words, return_counts=True)\n",
    "\n",
    "prompts = df['text'].value_counts()\n",
    "prompts"
   ]
  },
  {
   "cell_type": "code",
   "execution_count": 59,
   "metadata": {},
   "outputs": [],
   "source": [
    "# #X_train.groupby('reqrealip_by_pkgname_count')['label'].value_counts()\n",
    "# plt.rcParams[\"figure.figsize\"] = [7, 7]\n",
    "# plt.rcParams[\"figure.autolayout\"] = True\n",
    "# df.groupby('text')['rating_initial'].value_counts().unstack().plot.bar(stacked=True)\n",
    "# plt.legend(bbox_to_anchor=(1.0, 1.0))\n",
    "# plt.show()\n"
   ]
  },
  {
   "cell_type": "code",
   "execution_count": 60,
   "metadata": {},
   "outputs": [
    {
     "data": {
      "text/plain": [
       "Index(['text'], dtype='object')"
      ]
     },
     "execution_count": 60,
     "metadata": {},
     "output_type": "execute_result"
    }
   ],
   "source": [
    "df.columns"
   ]
  },
  {
   "cell_type": "code",
   "execution_count": 61,
   "metadata": {},
   "outputs": [
    {
     "data": {
      "text/html": [
       "<div>\n",
       "<style scoped>\n",
       "    .dataframe tbody tr th:only-of-type {\n",
       "        vertical-align: middle;\n",
       "    }\n",
       "\n",
       "    .dataframe tbody tr th {\n",
       "        vertical-align: top;\n",
       "    }\n",
       "\n",
       "    .dataframe thead th {\n",
       "        text-align: right;\n",
       "    }\n",
       "</style>\n",
       "<table border=\"1\" class=\"dataframe\">\n",
       "  <thead>\n",
       "    <tr style=\"text-align: right;\">\n",
       "      <th></th>\n",
       "      <th>text</th>\n",
       "    </tr>\n",
       "  </thead>\n",
       "  <tbody>\n",
       "    <tr>\n",
       "      <th>0</th>\n",
       "      <td>Data,Entry</td>\n",
       "    </tr>\n",
       "    <tr>\n",
       "      <th>1</th>\n",
       "      <td>12 September,\"Fresh book, fresh start. With th...</td>\n",
       "    </tr>\n",
       "    <tr>\n",
       "      <th>2</th>\n",
       "      <td>13 September,\"I had a really good day yesterda...</td>\n",
       "    </tr>\n",
       "  </tbody>\n",
       "</table>\n",
       "</div>"
      ],
      "text/plain": [
       "                                                text\n",
       "0                                         Data,Entry\n",
       "1  12 September,\"Fresh book, fresh start. With th...\n",
       "2  13 September,\"I had a really good day yesterda..."
      ]
     },
     "execution_count": 61,
     "metadata": {},
     "output_type": "execute_result"
    }
   ],
   "source": [
    "# sentiment = df.drop(['worker_id', 'source', 'prompt_type', 'rating_initial', 'rating_final', 'persuasiveness_metric'], axis = 1)\n",
    "sentiment = df\n",
    "sentiment.head(3)"
   ]
  },
  {
   "cell_type": "code",
   "execution_count": 62,
   "metadata": {},
   "outputs": [
    {
     "data": {
      "text/plain": [
       "(87, 1)"
      ]
     },
     "execution_count": 62,
     "metadata": {},
     "output_type": "execute_result"
    }
   ],
   "source": [
    "sentiment.shape"
   ]
  },
  {
   "cell_type": "code",
   "execution_count": 63,
   "metadata": {},
   "outputs": [
    {
     "data": {
      "text/html": [
       "<div>\n",
       "<style scoped>\n",
       "    .dataframe tbody tr th:only-of-type {\n",
       "        vertical-align: middle;\n",
       "    }\n",
       "\n",
       "    .dataframe tbody tr th {\n",
       "        vertical-align: top;\n",
       "    }\n",
       "\n",
       "    .dataframe thead th {\n",
       "        text-align: right;\n",
       "    }\n",
       "</style>\n",
       "<table border=\"1\" class=\"dataframe\">\n",
       "  <thead>\n",
       "    <tr style=\"text-align: right;\">\n",
       "      <th></th>\n",
       "      <th>text</th>\n",
       "      <th>Cleaned_claims</th>\n",
       "    </tr>\n",
       "  </thead>\n",
       "  <tbody>\n",
       "    <tr>\n",
       "      <th>0</th>\n",
       "      <td>Data,Entry</td>\n",
       "      <td>Data Entry</td>\n",
       "    </tr>\n",
       "    <tr>\n",
       "      <th>1</th>\n",
       "      <td>12 September,\"Fresh book, fresh start. With th...</td>\n",
       "      <td>September Fresh book fresh start With this I ...</td>\n",
       "    </tr>\n",
       "    <tr>\n",
       "      <th>2</th>\n",
       "      <td>13 September,\"I had a really good day yesterda...</td>\n",
       "      <td>September I had a really good day yesterday c...</td>\n",
       "    </tr>\n",
       "  </tbody>\n",
       "</table>\n",
       "</div>"
      ],
      "text/plain": [
       "                                                text  \\\n",
       "0                                         Data,Entry   \n",
       "1  12 September,\"Fresh book, fresh start. With th...   \n",
       "2  13 September,\"I had a really good day yesterda...   \n",
       "\n",
       "                                      Cleaned_claims  \n",
       "0                                         Data Entry  \n",
       "1   September Fresh book fresh start With this I ...  \n",
       "2   September I had a really good day yesterday c...  "
      ]
     },
     "execution_count": 63,
     "metadata": {},
     "output_type": "execute_result"
    }
   ],
   "source": [
    "import re\n",
    "\n",
    "# Define a function to clean the text\n",
    "def clean(text):\n",
    "    # Removes all special characters and numericals leaving the alphabets\n",
    "    text = re.sub('[^A-Za-z]+', ' ', text)\n",
    "    return text\n",
    "\n",
    "# Cleaning the text in the review column\n",
    "sentiment['Cleaned_claims'] = sentiment['text'].apply(clean)\n",
    "sentiment.head(3)"
   ]
  },
  {
   "cell_type": "code",
   "execution_count": 64,
   "metadata": {},
   "outputs": [
    {
     "data": {
      "text/html": [
       "<div>\n",
       "<style scoped>\n",
       "    .dataframe tbody tr th:only-of-type {\n",
       "        vertical-align: middle;\n",
       "    }\n",
       "\n",
       "    .dataframe tbody tr th {\n",
       "        vertical-align: top;\n",
       "    }\n",
       "\n",
       "    .dataframe thead th {\n",
       "        text-align: right;\n",
       "    }\n",
       "</style>\n",
       "<table border=\"1\" class=\"dataframe\">\n",
       "  <thead>\n",
       "    <tr style=\"text-align: right;\">\n",
       "      <th></th>\n",
       "      <th>text</th>\n",
       "      <th>Cleaned_claims</th>\n",
       "      <th>POS tagged</th>\n",
       "    </tr>\n",
       "  </thead>\n",
       "  <tbody>\n",
       "    <tr>\n",
       "      <th>0</th>\n",
       "      <td>Data,Entry</td>\n",
       "      <td>Data Entry</td>\n",
       "      <td>[(Data, n), (Entry, n)]</td>\n",
       "    </tr>\n",
       "    <tr>\n",
       "      <th>1</th>\n",
       "      <td>12 September,\"Fresh book, fresh start. With th...</td>\n",
       "      <td>September Fresh book fresh start With this I ...</td>\n",
       "      <td>[(September, n), (Fresh, n), (book, n), (fresh...</td>\n",
       "    </tr>\n",
       "    <tr>\n",
       "      <th>2</th>\n",
       "      <td>13 September,\"I had a really good day yesterda...</td>\n",
       "      <td>September I had a really good day yesterday c...</td>\n",
       "      <td>[(September, n), (really, r), (good, a), (day,...</td>\n",
       "    </tr>\n",
       "    <tr>\n",
       "      <th>3</th>\n",
       "      <td>14 September,\"Today has not been so good but n...</td>\n",
       "      <td>September Today has not been so good but not ...</td>\n",
       "      <td>[(September, n), (Today, n), (good, a), (total...</td>\n",
       "    </tr>\n",
       "    <tr>\n",
       "      <th>4</th>\n",
       "      <td>16 September,\"Dear Anna, I want you to know ho...</td>\n",
       "      <td>September Dear Anna I want you to know how mu...</td>\n",
       "      <td>[(September, n), (Dear, n), (Anna, n), (want, ...</td>\n",
       "    </tr>\n",
       "  </tbody>\n",
       "</table>\n",
       "</div>"
      ],
      "text/plain": [
       "                                                text  \\\n",
       "0                                         Data,Entry   \n",
       "1  12 September,\"Fresh book, fresh start. With th...   \n",
       "2  13 September,\"I had a really good day yesterda...   \n",
       "3  14 September,\"Today has not been so good but n...   \n",
       "4  16 September,\"Dear Anna, I want you to know ho...   \n",
       "\n",
       "                                      Cleaned_claims  \\\n",
       "0                                         Data Entry   \n",
       "1   September Fresh book fresh start With this I ...   \n",
       "2   September I had a really good day yesterday c...   \n",
       "3   September Today has not been so good but not ...   \n",
       "4   September Dear Anna I want you to know how mu...   \n",
       "\n",
       "                                          POS tagged  \n",
       "0                            [(Data, n), (Entry, n)]  \n",
       "1  [(September, n), (Fresh, n), (book, n), (fresh...  \n",
       "2  [(September, n), (really, r), (good, a), (day,...  \n",
       "3  [(September, n), (Today, n), (good, a), (total...  \n",
       "4  [(September, n), (Dear, n), (Anna, n), (want, ...  "
      ]
     },
     "execution_count": 64,
     "metadata": {},
     "output_type": "execute_result"
    }
   ],
   "source": [
    "pos_dict = {'J':wordnet.ADJ, 'V':wordnet.VERB, 'N':wordnet.NOUN, 'R':wordnet.ADV}\n",
    "\n",
    "def token_stop_pos(text):\n",
    "    tags = pos_tag(word_tokenize(text))\n",
    "    newlist = []\n",
    "    for word, tag in tags:\n",
    "        if word.lower() not in set(stopwords.words('english')):\n",
    "            newlist.append(tuple([word, pos_dict.get(tag[0])]))\n",
    "    return newlist\n",
    "\n",
    "sentiment['POS tagged'] = sentiment['Cleaned_claims'].apply(token_stop_pos)\n",
    "sentiment.head()"
   ]
  },
  {
   "cell_type": "code",
   "execution_count": 65,
   "metadata": {},
   "outputs": [
    {
     "data": {
      "text/html": [
       "<div>\n",
       "<style scoped>\n",
       "    .dataframe tbody tr th:only-of-type {\n",
       "        vertical-align: middle;\n",
       "    }\n",
       "\n",
       "    .dataframe tbody tr th {\n",
       "        vertical-align: top;\n",
       "    }\n",
       "\n",
       "    .dataframe thead th {\n",
       "        text-align: right;\n",
       "    }\n",
       "</style>\n",
       "<table border=\"1\" class=\"dataframe\">\n",
       "  <thead>\n",
       "    <tr style=\"text-align: right;\">\n",
       "      <th></th>\n",
       "      <th>text</th>\n",
       "      <th>Cleaned_claims</th>\n",
       "      <th>POS tagged</th>\n",
       "      <th>Lemma</th>\n",
       "    </tr>\n",
       "  </thead>\n",
       "  <tbody>\n",
       "    <tr>\n",
       "      <th>0</th>\n",
       "      <td>Data,Entry</td>\n",
       "      <td>Data Entry</td>\n",
       "      <td>[(Data, n), (Entry, n)]</td>\n",
       "      <td>Data Entry</td>\n",
       "    </tr>\n",
       "    <tr>\n",
       "      <th>1</th>\n",
       "      <td>12 September,\"Fresh book, fresh start. With th...</td>\n",
       "      <td>September Fresh book fresh start With this I ...</td>\n",
       "      <td>[(September, n), (Fresh, n), (book, n), (fresh...</td>\n",
       "      <td>September Fresh book fresh start go try stay...</td>\n",
       "    </tr>\n",
       "    <tr>\n",
       "      <th>2</th>\n",
       "      <td>13 September,\"I had a really good day yesterda...</td>\n",
       "      <td>September I had a really good day yesterday c...</td>\n",
       "      <td>[(September, n), (really, r), (good, a), (day,...</td>\n",
       "      <td>September really good day yesterday chat mum...</td>\n",
       "    </tr>\n",
       "  </tbody>\n",
       "</table>\n",
       "</div>"
      ],
      "text/plain": [
       "                                                text  \\\n",
       "0                                         Data,Entry   \n",
       "1  12 September,\"Fresh book, fresh start. With th...   \n",
       "2  13 September,\"I had a really good day yesterda...   \n",
       "\n",
       "                                      Cleaned_claims  \\\n",
       "0                                         Data Entry   \n",
       "1   September Fresh book fresh start With this I ...   \n",
       "2   September I had a really good day yesterday c...   \n",
       "\n",
       "                                          POS tagged  \\\n",
       "0                            [(Data, n), (Entry, n)]   \n",
       "1  [(September, n), (Fresh, n), (book, n), (fresh...   \n",
       "2  [(September, n), (really, r), (good, a), (day,...   \n",
       "\n",
       "                                               Lemma  \n",
       "0                                         Data Entry  \n",
       "1    September Fresh book fresh start go try stay...  \n",
       "2    September really good day yesterday chat mum...  "
      ]
     },
     "execution_count": 65,
     "metadata": {},
     "output_type": "execute_result"
    }
   ],
   "source": [
    "wordnet_lemmatizer = WordNetLemmatizer()\n",
    "def lemmatize(pos_tagged):\n",
    "    lemma_new = \" \"\n",
    "    for word, pos in pos_tagged:\n",
    "        if not pos:\n",
    "            lemma = word\n",
    "            lemma_new = lemma_new + \" \" + lemma\n",
    "        else:\n",
    "            lemma = wordnet_lemmatizer.lemmatize(word, pos = pos)\n",
    "            lemma_new = lemma_new + \" \" + lemma\n",
    "    return lemma_new\n",
    "\n",
    "sentiment[\"Lemma\"] = sentiment['POS tagged'].apply(lemmatize)\n",
    "sentiment.head(3)"
   ]
  },
  {
   "cell_type": "markdown",
   "metadata": {},
   "source": [
    "## Using Textblob for sentiment analysis\n",
    "\n"
   ]
  },
  {
   "cell_type": "code",
   "execution_count": 66,
   "metadata": {},
   "outputs": [],
   "source": [
    "# function to calculate subjectivity\n",
    "def getSubjectivity(review):\n",
    "    return TextBlob(review).sentiment.subjectivity\n",
    "\n",
    "# function to calculate polarity\n",
    "def getPolarity(review):\n",
    "    return TextBlob(review).sentiment.polarity\n",
    "\n",
    "# function to analyze the reviews\n",
    "def analysis(score):\n",
    "    if score < 0:\n",
    "        return 'Negative'\n",
    "    elif score == 0:\n",
    "        return 'Neutral'\n",
    "    else:\n",
    "        return 'Positive'"
   ]
  },
  {
   "cell_type": "code",
   "execution_count": 67,
   "metadata": {},
   "outputs": [
    {
     "data": {
      "text/html": [
       "<div>\n",
       "<style scoped>\n",
       "    .dataframe tbody tr th:only-of-type {\n",
       "        vertical-align: middle;\n",
       "    }\n",
       "\n",
       "    .dataframe tbody tr th {\n",
       "        vertical-align: top;\n",
       "    }\n",
       "\n",
       "    .dataframe thead th {\n",
       "        text-align: right;\n",
       "    }\n",
       "</style>\n",
       "<table border=\"1\" class=\"dataframe\">\n",
       "  <thead>\n",
       "    <tr style=\"text-align: right;\">\n",
       "      <th></th>\n",
       "      <th>text</th>\n",
       "      <th>Cleaned_claims</th>\n",
       "      <th>POS tagged</th>\n",
       "      <th>Lemma</th>\n",
       "    </tr>\n",
       "  </thead>\n",
       "  <tbody>\n",
       "    <tr>\n",
       "      <th>0</th>\n",
       "      <td>Data,Entry</td>\n",
       "      <td>Data Entry</td>\n",
       "      <td>[(Data, n), (Entry, n)]</td>\n",
       "      <td>Data Entry</td>\n",
       "    </tr>\n",
       "    <tr>\n",
       "      <th>1</th>\n",
       "      <td>12 September,\"Fresh book, fresh start. With th...</td>\n",
       "      <td>September Fresh book fresh start With this I ...</td>\n",
       "      <td>[(September, n), (Fresh, n), (book, n), (fresh...</td>\n",
       "      <td>September Fresh book fresh start go try stay...</td>\n",
       "    </tr>\n",
       "    <tr>\n",
       "      <th>2</th>\n",
       "      <td>13 September,\"I had a really good day yesterda...</td>\n",
       "      <td>September I had a really good day yesterday c...</td>\n",
       "      <td>[(September, n), (really, r), (good, a), (day,...</td>\n",
       "      <td>September really good day yesterday chat mum...</td>\n",
       "    </tr>\n",
       "    <tr>\n",
       "      <th>3</th>\n",
       "      <td>14 September,\"Today has not been so good but n...</td>\n",
       "      <td>September Today has not been so good but not ...</td>\n",
       "      <td>[(September, n), (Today, n), (good, a), (total...</td>\n",
       "      <td>September Today good totally lose go May Hil...</td>\n",
       "    </tr>\n",
       "    <tr>\n",
       "      <th>4</th>\n",
       "      <td>16 September,\"Dear Anna, I want you to know ho...</td>\n",
       "      <td>September Dear Anna I want you to know how mu...</td>\n",
       "      <td>[(September, n), (Dear, n), (Anna, n), (want, ...</td>\n",
       "      <td>September Dear Anna want know much love love...</td>\n",
       "    </tr>\n",
       "    <tr>\n",
       "      <th>...</th>\n",
       "      <td>...</td>\n",
       "      <td>...</td>\n",
       "      <td>...</td>\n",
       "      <td>...</td>\n",
       "    </tr>\n",
       "    <tr>\n",
       "      <th>82</th>\n",
       "      <td>19 January,\"Dear Anna, Yesterday what is the h...</td>\n",
       "      <td>January Dear Anna Yesterday what is the hotte...</td>\n",
       "      <td>[(January, n), (Dear, n), (Anna, n), (Yesterda...</td>\n",
       "      <td>January Dear Anna Yesterday hot day awhile f...</td>\n",
       "    </tr>\n",
       "    <tr>\n",
       "      <th>83</th>\n",
       "      <td>21 January,\"Dear Anna, I was sick yesterday wh...</td>\n",
       "      <td>January Dear Anna I was sick yesterday when I...</td>\n",
       "      <td>[(January, n), (Dear, n), (Anna, n), (sick, v)...</td>\n",
       "      <td>January Dear Anna sick yesterday mean work l...</td>\n",
       "    </tr>\n",
       "    <tr>\n",
       "      <th>84</th>\n",
       "      <td>23 January,\"Dear Anna, I got wasted last night...</td>\n",
       "      <td>January Dear Anna I got wasted last night wit...</td>\n",
       "      <td>[(January, n), (Dear, n), (Anna, n), (got, v),...</td>\n",
       "      <td>January Dear Anna get waste last night winte...</td>\n",
       "    </tr>\n",
       "    <tr>\n",
       "      <th>85</th>\n",
       "      <td>27 January,\"Dear Anna, I feel a lot better now...</td>\n",
       "      <td>January Dear Anna I feel a lot better now com...</td>\n",
       "      <td>[(January, n), (Dear, n), (Anna, n), (feel, v)...</td>\n",
       "      <td>January Dear Anna feel lot well come need re...</td>\n",
       "    </tr>\n",
       "    <tr>\n",
       "      <th>86</th>\n",
       "      <td>28 January,\"Dear Anna, Feeling pretty good, ra...</td>\n",
       "      <td>January Dear Anna Feeling pretty good racing ...</td>\n",
       "      <td>[(January, n), (Dear, n), (Anna, n), (Feeling,...</td>\n",
       "      <td>January Dear Anna Feeling pretty good race t...</td>\n",
       "    </tr>\n",
       "  </tbody>\n",
       "</table>\n",
       "<p>87 rows × 4 columns</p>\n",
       "</div>"
      ],
      "text/plain": [
       "                                                 text  \\\n",
       "0                                          Data,Entry   \n",
       "1   12 September,\"Fresh book, fresh start. With th...   \n",
       "2   13 September,\"I had a really good day yesterda...   \n",
       "3   14 September,\"Today has not been so good but n...   \n",
       "4   16 September,\"Dear Anna, I want you to know ho...   \n",
       "..                                                ...   \n",
       "82  19 January,\"Dear Anna, Yesterday what is the h...   \n",
       "83  21 January,\"Dear Anna, I was sick yesterday wh...   \n",
       "84  23 January,\"Dear Anna, I got wasted last night...   \n",
       "85  27 January,\"Dear Anna, I feel a lot better now...   \n",
       "86  28 January,\"Dear Anna, Feeling pretty good, ra...   \n",
       "\n",
       "                                       Cleaned_claims  \\\n",
       "0                                          Data Entry   \n",
       "1    September Fresh book fresh start With this I ...   \n",
       "2    September I had a really good day yesterday c...   \n",
       "3    September Today has not been so good but not ...   \n",
       "4    September Dear Anna I want you to know how mu...   \n",
       "..                                                ...   \n",
       "82   January Dear Anna Yesterday what is the hotte...   \n",
       "83   January Dear Anna I was sick yesterday when I...   \n",
       "84   January Dear Anna I got wasted last night wit...   \n",
       "85   January Dear Anna I feel a lot better now com...   \n",
       "86   January Dear Anna Feeling pretty good racing ...   \n",
       "\n",
       "                                           POS tagged  \\\n",
       "0                             [(Data, n), (Entry, n)]   \n",
       "1   [(September, n), (Fresh, n), (book, n), (fresh...   \n",
       "2   [(September, n), (really, r), (good, a), (day,...   \n",
       "3   [(September, n), (Today, n), (good, a), (total...   \n",
       "4   [(September, n), (Dear, n), (Anna, n), (want, ...   \n",
       "..                                                ...   \n",
       "82  [(January, n), (Dear, n), (Anna, n), (Yesterda...   \n",
       "83  [(January, n), (Dear, n), (Anna, n), (sick, v)...   \n",
       "84  [(January, n), (Dear, n), (Anna, n), (got, v),...   \n",
       "85  [(January, n), (Dear, n), (Anna, n), (feel, v)...   \n",
       "86  [(January, n), (Dear, n), (Anna, n), (Feeling,...   \n",
       "\n",
       "                                                Lemma  \n",
       "0                                          Data Entry  \n",
       "1     September Fresh book fresh start go try stay...  \n",
       "2     September really good day yesterday chat mum...  \n",
       "3     September Today good totally lose go May Hil...  \n",
       "4     September Dear Anna want know much love love...  \n",
       "..                                                ...  \n",
       "82    January Dear Anna Yesterday hot day awhile f...  \n",
       "83    January Dear Anna sick yesterday mean work l...  \n",
       "84    January Dear Anna get waste last night winte...  \n",
       "85    January Dear Anna feel lot well come need re...  \n",
       "86    January Dear Anna Feeling pretty good race t...  \n",
       "\n",
       "[87 rows x 4 columns]"
      ]
     },
     "execution_count": 67,
     "metadata": {},
     "output_type": "execute_result"
    }
   ],
   "source": [
    "sentiment"
   ]
  },
  {
   "cell_type": "code",
   "execution_count": 68,
   "metadata": {},
   "outputs": [
    {
     "data": {
      "text/html": [
       "<div>\n",
       "<style scoped>\n",
       "    .dataframe tbody tr th:only-of-type {\n",
       "        vertical-align: middle;\n",
       "    }\n",
       "\n",
       "    .dataframe tbody tr th {\n",
       "        vertical-align: top;\n",
       "    }\n",
       "\n",
       "    .dataframe thead th {\n",
       "        text-align: right;\n",
       "    }\n",
       "</style>\n",
       "<table border=\"1\" class=\"dataframe\">\n",
       "  <thead>\n",
       "    <tr style=\"text-align: right;\">\n",
       "      <th></th>\n",
       "      <th>text</th>\n",
       "      <th>Lemma</th>\n",
       "      <th>Polarity</th>\n",
       "      <th>Analysis</th>\n",
       "    </tr>\n",
       "  </thead>\n",
       "  <tbody>\n",
       "    <tr>\n",
       "      <th>0</th>\n",
       "      <td>Data,Entry</td>\n",
       "      <td>Data Entry</td>\n",
       "      <td>0.000000</td>\n",
       "      <td>Neutral</td>\n",
       "    </tr>\n",
       "    <tr>\n",
       "      <th>1</th>\n",
       "      <td>12 September,\"Fresh book, fresh start. With th...</td>\n",
       "      <td>September Fresh book fresh start go try stay...</td>\n",
       "      <td>0.218045</td>\n",
       "      <td>Positive</td>\n",
       "    </tr>\n",
       "    <tr>\n",
       "      <th>2</th>\n",
       "      <td>13 September,\"I had a really good day yesterda...</td>\n",
       "      <td>September really good day yesterday chat mum...</td>\n",
       "      <td>0.187338</td>\n",
       "      <td>Positive</td>\n",
       "    </tr>\n",
       "    <tr>\n",
       "      <th>3</th>\n",
       "      <td>14 September,\"Today has not been so good but n...</td>\n",
       "      <td>September Today good totally lose go May Hil...</td>\n",
       "      <td>0.060000</td>\n",
       "      <td>Positive</td>\n",
       "    </tr>\n",
       "    <tr>\n",
       "      <th>4</th>\n",
       "      <td>16 September,\"Dear Anna, I want you to know ho...</td>\n",
       "      <td>September Dear Anna want know much love love...</td>\n",
       "      <td>0.471429</td>\n",
       "      <td>Positive</td>\n",
       "    </tr>\n",
       "    <tr>\n",
       "      <th>5</th>\n",
       "      <td>18 September,\"The last two days have been very...</td>\n",
       "      <td>September last two day intense Saturday cry ...</td>\n",
       "      <td>0.146250</td>\n",
       "      <td>Positive</td>\n",
       "    </tr>\n",
       "    <tr>\n",
       "      <th>6</th>\n",
       "      <td>23 September,\"Dear Anna, Today is Svenny’s 25t...</td>\n",
       "      <td>September Dear Anna Today Svenny th Birthday...</td>\n",
       "      <td>0.163125</td>\n",
       "      <td>Positive</td>\n",
       "    </tr>\n",
       "    <tr>\n",
       "      <th>7</th>\n",
       "      <td>24 September,\"Dear Anna, I’m loving the affirm...</td>\n",
       "      <td>September Dear Anna love affirmation app Jon...</td>\n",
       "      <td>0.111351</td>\n",
       "      <td>Positive</td>\n",
       "    </tr>\n",
       "    <tr>\n",
       "      <th>8</th>\n",
       "      <td>25 September,\"Dear Anna, Busy day, first day b...</td>\n",
       "      <td>September Dear Anna Busy day first day back ...</td>\n",
       "      <td>0.365909</td>\n",
       "      <td>Positive</td>\n",
       "    </tr>\n",
       "    <tr>\n",
       "      <th>9</th>\n",
       "      <td>26 September,\"Dear Anna Well done for organisi...</td>\n",
       "      <td>September Dear Anna Well do organise house g...</td>\n",
       "      <td>0.335000</td>\n",
       "      <td>Positive</td>\n",
       "    </tr>\n",
       "  </tbody>\n",
       "</table>\n",
       "</div>"
      ],
      "text/plain": [
       "                                                text  \\\n",
       "0                                         Data,Entry   \n",
       "1  12 September,\"Fresh book, fresh start. With th...   \n",
       "2  13 September,\"I had a really good day yesterda...   \n",
       "3  14 September,\"Today has not been so good but n...   \n",
       "4  16 September,\"Dear Anna, I want you to know ho...   \n",
       "5  18 September,\"The last two days have been very...   \n",
       "6  23 September,\"Dear Anna, Today is Svenny’s 25t...   \n",
       "7  24 September,\"Dear Anna, I’m loving the affirm...   \n",
       "8  25 September,\"Dear Anna, Busy day, first day b...   \n",
       "9  26 September,\"Dear Anna Well done for organisi...   \n",
       "\n",
       "                                               Lemma  Polarity  Analysis  \n",
       "0                                         Data Entry  0.000000   Neutral  \n",
       "1    September Fresh book fresh start go try stay...  0.218045  Positive  \n",
       "2    September really good day yesterday chat mum...  0.187338  Positive  \n",
       "3    September Today good totally lose go May Hil...  0.060000  Positive  \n",
       "4    September Dear Anna want know much love love...  0.471429  Positive  \n",
       "5    September last two day intense Saturday cry ...  0.146250  Positive  \n",
       "6    September Dear Anna Today Svenny th Birthday...  0.163125  Positive  \n",
       "7    September Dear Anna love affirmation app Jon...  0.111351  Positive  \n",
       "8    September Dear Anna Busy day first day back ...  0.365909  Positive  \n",
       "9    September Dear Anna Well do organise house g...  0.335000  Positive  "
      ]
     },
     "execution_count": 68,
     "metadata": {},
     "output_type": "execute_result"
    }
   ],
   "source": [
    "lemma_data = pd.DataFrame(sentiment[['text', 'Lemma']])\n",
    "lemma_data['Polarity'] = lemma_data['Lemma'].apply(getPolarity)\n",
    "lemma_data['Analysis'] = lemma_data['Polarity'].apply(analysis)\n",
    "lemma_data.head(10)"
   ]
  },
  {
   "cell_type": "code",
   "execution_count": 69,
   "metadata": {},
   "outputs": [
    {
     "data": {
      "text/plain": [
       "Analysis\n",
       "Positive    82\n",
       "Neutral      3\n",
       "Negative     2\n",
       "Name: count, dtype: int64"
      ]
     },
     "execution_count": 69,
     "metadata": {},
     "output_type": "execute_result"
    }
   ],
   "source": [
    "tb_counts = lemma_data.Analysis.value_counts()\n",
    "tb_counts"
   ]
  },
  {
   "cell_type": "code",
   "execution_count": 70,
   "metadata": {},
   "outputs": [
    {
     "data": {
      "image/png": "[encoded data removed]",
      "text/plain": [
       "<Figure size 500x500 with 1 Axes>"
      ]
     },
     "metadata": {},
     "output_type": "display_data"
    }
   ],
   "source": [
    "tb_count= lemma_data.Analysis.value_counts()\n",
    "plt.figure(figsize=(5, 5))\n",
    "plt.pie(tb_counts.values, labels = tb_counts.index, explode = (0, 0, 0.25), autopct='%1.1f%%', shadow=False)\n",
    "plt.show()"
   ]
  },
  {
   "cell_type": "code",
   "execution_count": 71,
   "metadata": {},
   "outputs": [],
   "source": [
    "analyzer = SentimentIntensityAnalyzer()\n",
    "\n",
    "# function to calculate vader sentiment\n",
    "def vadersentimentanalysis(review):\n",
    "    vs = analyzer.polarity_scores(review)\n",
    "    return vs['compound']\n",
    "\n",
    "lemma_data['Vader Sentiment'] = lemma_data['Lemma'].apply(vadersentimentanalysis)"
   ]
  },
  {
   "cell_type": "code",
   "execution_count": 72,
   "metadata": {},
   "outputs": [],
   "source": [
    "# function to analyse\n",
    "def vader_analysis(compound):\n",
    "    if compound >= 0.5:\n",
    "        return 'Positive'\n",
    "    elif compound <= -0.5 :\n",
    "        return 'Negative'\n",
    "    else:\n",
    "        return 'Neutral'\n",
    "    \n",
    "    "
   ]
  },
  {
   "cell_type": "code",
   "execution_count": 73,
   "metadata": {},
   "outputs": [
    {
     "data": {
      "text/html": [
       "<div>\n",
       "<style scoped>\n",
       "    .dataframe tbody tr th:only-of-type {\n",
       "        vertical-align: middle;\n",
       "    }\n",
       "\n",
       "    .dataframe tbody tr th {\n",
       "        vertical-align: top;\n",
       "    }\n",
       "\n",
       "    .dataframe thead th {\n",
       "        text-align: right;\n",
       "    }\n",
       "</style>\n",
       "<table border=\"1\" class=\"dataframe\">\n",
       "  <thead>\n",
       "    <tr style=\"text-align: right;\">\n",
       "      <th></th>\n",
       "      <th>text</th>\n",
       "      <th>Lemma</th>\n",
       "      <th>Polarity</th>\n",
       "      <th>Analysis</th>\n",
       "      <th>Vader Sentiment</th>\n",
       "      <th>Vader Analysis</th>\n",
       "    </tr>\n",
       "  </thead>\n",
       "  <tbody>\n",
       "    <tr>\n",
       "      <th>0</th>\n",
       "      <td>Data,Entry</td>\n",
       "      <td>Data Entry</td>\n",
       "      <td>0.000000</td>\n",
       "      <td>Neutral</td>\n",
       "      <td>0.0000</td>\n",
       "      <td>Neutral</td>\n",
       "    </tr>\n",
       "    <tr>\n",
       "      <th>1</th>\n",
       "      <td>12 September,\"Fresh book, fresh start. With th...</td>\n",
       "      <td>September Fresh book fresh start go try stay...</td>\n",
       "      <td>0.218045</td>\n",
       "      <td>Positive</td>\n",
       "      <td>0.9919</td>\n",
       "      <td>Positive</td>\n",
       "    </tr>\n",
       "    <tr>\n",
       "      <th>2</th>\n",
       "      <td>13 September,\"I had a really good day yesterda...</td>\n",
       "      <td>September really good day yesterday chat mum...</td>\n",
       "      <td>0.187338</td>\n",
       "      <td>Positive</td>\n",
       "      <td>0.6901</td>\n",
       "      <td>Positive</td>\n",
       "    </tr>\n",
       "    <tr>\n",
       "      <th>3</th>\n",
       "      <td>14 September,\"Today has not been so good but n...</td>\n",
       "      <td>September Today good totally lose go May Hil...</td>\n",
       "      <td>0.060000</td>\n",
       "      <td>Positive</td>\n",
       "      <td>0.1960</td>\n",
       "      <td>Neutral</td>\n",
       "    </tr>\n",
       "    <tr>\n",
       "      <th>4</th>\n",
       "      <td>16 September,\"Dear Anna, I want you to know ho...</td>\n",
       "      <td>September Dear Anna want know much love love...</td>\n",
       "      <td>0.471429</td>\n",
       "      <td>Positive</td>\n",
       "      <td>0.9870</td>\n",
       "      <td>Positive</td>\n",
       "    </tr>\n",
       "  </tbody>\n",
       "</table>\n",
       "</div>"
      ],
      "text/plain": [
       "                                                text  \\\n",
       "0                                         Data,Entry   \n",
       "1  12 September,\"Fresh book, fresh start. With th...   \n",
       "2  13 September,\"I had a really good day yesterda...   \n",
       "3  14 September,\"Today has not been so good but n...   \n",
       "4  16 September,\"Dear Anna, I want you to know ho...   \n",
       "\n",
       "                                               Lemma  Polarity  Analysis  \\\n",
       "0                                         Data Entry  0.000000   Neutral   \n",
       "1    September Fresh book fresh start go try stay...  0.218045  Positive   \n",
       "2    September really good day yesterday chat mum...  0.187338  Positive   \n",
       "3    September Today good totally lose go May Hil...  0.060000  Positive   \n",
       "4    September Dear Anna want know much love love...  0.471429  Positive   \n",
       "\n",
       "   Vader Sentiment Vader Analysis  \n",
       "0           0.0000        Neutral  \n",
       "1           0.9919       Positive  \n",
       "2           0.6901       Positive  \n",
       "3           0.1960        Neutral  \n",
       "4           0.9870       Positive  "
      ]
     },
     "execution_count": 73,
     "metadata": {},
     "output_type": "execute_result"
    }
   ],
   "source": [
    "lemma_data['Vader Analysis'] = lemma_data['Vader Sentiment'].apply(vader_analysis)\n",
    "lemma_data.head()"
   ]
  },
  {
   "cell_type": "code",
   "execution_count": 74,
   "metadata": {},
   "outputs": [
    {
     "data": {
      "text/plain": [
       "Vader Analysis\n",
       "Positive    78\n",
       "Neutral      9\n",
       "Name: count, dtype: int64"
      ]
     },
     "execution_count": 74,
     "metadata": {},
     "output_type": "execute_result"
    }
   ],
   "source": [
    "vader_counts = lemma_data['Vader Analysis'].value_counts()\n",
    "vader_counts"
   ]
  },
  {
   "cell_type": "code",
   "execution_count": 75,
   "metadata": {},
   "outputs": [
    {
     "ename": "ValueError",
     "evalue": "'explode' must be of length 'x'",
     "output_type": "error",
     "traceback": [
      "\u001b[0;31m---------------------------------------------------------------------------\u001b[0m",
      "\u001b[0;31mValueError\u001b[0m                                Traceback (most recent call last)",
      "Cell \u001b[0;32mIn[75], line 3\u001b[0m\n\u001b[1;32m      1\u001b[0m vader_counts\u001b[38;5;241m=\u001b[39m lemma_data[\u001b[38;5;124m'\u001b[39m\u001b[38;5;124mVader Analysis\u001b[39m\u001b[38;5;124m'\u001b[39m]\u001b[38;5;241m.\u001b[39mvalue_counts()\n\u001b[1;32m      2\u001b[0m plt\u001b[38;5;241m.\u001b[39mfigure(figsize\u001b[38;5;241m=\u001b[39m(\u001b[38;5;241m5\u001b[39m, \u001b[38;5;241m5\u001b[39m))\n\u001b[0;32m----> 3\u001b[0m \u001b[43mplt\u001b[49m\u001b[38;5;241;43m.\u001b[39;49m\u001b[43mpie\u001b[49m\u001b[43m(\u001b[49m\u001b[43mvader_counts\u001b[49m\u001b[38;5;241;43m.\u001b[39;49m\u001b[43mvalues\u001b[49m\u001b[43m,\u001b[49m\u001b[43m \u001b[49m\u001b[43mlabels\u001b[49m\u001b[43m \u001b[49m\u001b[38;5;241;43m=\u001b[39;49m\u001b[43m \u001b[49m\u001b[43mvader_counts\u001b[49m\u001b[38;5;241;43m.\u001b[39;49m\u001b[43mindex\u001b[49m\u001b[43m,\u001b[49m\u001b[43m \u001b[49m\u001b[43mexplode\u001b[49m\u001b[43m \u001b[49m\u001b[38;5;241;43m=\u001b[39;49m\u001b[43m \u001b[49m\u001b[43m(\u001b[49m\u001b[38;5;241;43m0.1\u001b[39;49m\u001b[43m,\u001b[49m\u001b[43m \u001b[49m\u001b[38;5;241;43m0\u001b[39;49m\u001b[43m,\u001b[49m\u001b[43m \u001b[49m\u001b[38;5;241;43m0\u001b[39;49m\u001b[43m)\u001b[49m\u001b[43m,\u001b[49m\u001b[43m \u001b[49m\u001b[43mautopct\u001b[49m\u001b[38;5;241;43m=\u001b[39;49m\u001b[38;5;124;43m'\u001b[39;49m\u001b[38;5;132;43;01m%1.1f\u001b[39;49;00m\u001b[38;5;132;43;01m%%\u001b[39;49;00m\u001b[38;5;124;43m'\u001b[39;49m\u001b[43m,\u001b[49m\u001b[43m \u001b[49m\u001b[43mshadow\u001b[49m\u001b[38;5;241;43m=\u001b[39;49m\u001b[38;5;28;43;01mFalse\u001b[39;49;00m\u001b[43m)\u001b[49m\n\u001b[1;32m      4\u001b[0m plt\u001b[38;5;241m.\u001b[39mshow()\n",
      "File \u001b[0;32m/opt/anaconda3/envs/sentiment/lib/python3.9/site-packages/matplotlib/pyplot.py:3676\u001b[0m, in \u001b[0;36mpie\u001b[0;34m(x, explode, labels, colors, autopct, pctdistance, shadow, labeldistance, startangle, radius, counterclock, wedgeprops, textprops, center, frame, rotatelabels, normalize, hatch, data)\u001b[0m\n\u001b[1;32m   3653\u001b[0m \u001b[38;5;129m@_copy_docstring_and_deprecators\u001b[39m(Axes\u001b[38;5;241m.\u001b[39mpie)\n\u001b[1;32m   3654\u001b[0m \u001b[38;5;28;01mdef\u001b[39;00m \u001b[38;5;21mpie\u001b[39m(\n\u001b[1;32m   3655\u001b[0m     x: ArrayLike,\n\u001b[0;32m   (...)\u001b[0m\n\u001b[1;32m   3674\u001b[0m     data\u001b[38;5;241m=\u001b[39m\u001b[38;5;28;01mNone\u001b[39;00m,\n\u001b[1;32m   3675\u001b[0m ) \u001b[38;5;241m-\u001b[39m\u001b[38;5;241m>\u001b[39m \u001b[38;5;28mtuple\u001b[39m[\u001b[38;5;28mlist\u001b[39m[Wedge], \u001b[38;5;28mlist\u001b[39m[Text]] \u001b[38;5;241m|\u001b[39m \u001b[38;5;28mtuple\u001b[39m[\u001b[38;5;28mlist\u001b[39m[Wedge], \u001b[38;5;28mlist\u001b[39m[Text], \u001b[38;5;28mlist\u001b[39m[Text]]:\n\u001b[0;32m-> 3676\u001b[0m     \u001b[38;5;28;01mreturn\u001b[39;00m \u001b[43mgca\u001b[49m\u001b[43m(\u001b[49m\u001b[43m)\u001b[49m\u001b[38;5;241;43m.\u001b[39;49m\u001b[43mpie\u001b[49m\u001b[43m(\u001b[49m\n\u001b[1;32m   3677\u001b[0m \u001b[43m        \u001b[49m\u001b[43mx\u001b[49m\u001b[43m,\u001b[49m\n\u001b[1;32m   3678\u001b[0m \u001b[43m        \u001b[49m\u001b[43mexplode\u001b[49m\u001b[38;5;241;43m=\u001b[39;49m\u001b[43mexplode\u001b[49m\u001b[43m,\u001b[49m\n\u001b[1;32m   3679\u001b[0m \u001b[43m        \u001b[49m\u001b[43mlabels\u001b[49m\u001b[38;5;241;43m=\u001b[39;49m\u001b[43mlabels\u001b[49m\u001b[43m,\u001b[49m\n\u001b[1;32m   3680\u001b[0m \u001b[43m        \u001b[49m\u001b[43mcolors\u001b[49m\u001b[38;5;241;43m=\u001b[39;49m\u001b[43mcolors\u001b[49m\u001b[43m,\u001b[49m\n\u001b[1;32m   3681\u001b[0m \u001b[43m        \u001b[49m\u001b[43mautopct\u001b[49m\u001b[38;5;241;43m=\u001b[39;49m\u001b[43mautopct\u001b[49m\u001b[43m,\u001b[49m\n\u001b[1;32m   3682\u001b[0m \u001b[43m        \u001b[49m\u001b[43mpctdistance\u001b[49m\u001b[38;5;241;43m=\u001b[39;49m\u001b[43mpctdistance\u001b[49m\u001b[43m,\u001b[49m\n\u001b[1;32m   3683\u001b[0m \u001b[43m        \u001b[49m\u001b[43mshadow\u001b[49m\u001b[38;5;241;43m=\u001b[39;49m\u001b[43mshadow\u001b[49m\u001b[43m,\u001b[49m\n\u001b[1;32m   3684\u001b[0m \u001b[43m        \u001b[49m\u001b[43mlabeldistance\u001b[49m\u001b[38;5;241;43m=\u001b[39;49m\u001b[43mlabeldistance\u001b[49m\u001b[43m,\u001b[49m\n\u001b[1;32m   3685\u001b[0m \u001b[43m        \u001b[49m\u001b[43mstartangle\u001b[49m\u001b[38;5;241;43m=\u001b[39;49m\u001b[43mstartangle\u001b[49m\u001b[43m,\u001b[49m\n\u001b[1;32m   3686\u001b[0m \u001b[43m        \u001b[49m\u001b[43mradius\u001b[49m\u001b[38;5;241;43m=\u001b[39;49m\u001b[43mradius\u001b[49m\u001b[43m,\u001b[49m\n\u001b[1;32m   3687\u001b[0m \u001b[43m        \u001b[49m\u001b[43mcounterclock\u001b[49m\u001b[38;5;241;43m=\u001b[39;49m\u001b[43mcounterclock\u001b[49m\u001b[43m,\u001b[49m\n\u001b[1;32m   3688\u001b[0m \u001b[43m        \u001b[49m\u001b[43mwedgeprops\u001b[49m\u001b[38;5;241;43m=\u001b[39;49m\u001b[43mwedgeprops\u001b[49m\u001b[43m,\u001b[49m\n\u001b[1;32m   3689\u001b[0m \u001b[43m        \u001b[49m\u001b[43mtextprops\u001b[49m\u001b[38;5;241;43m=\u001b[39;49m\u001b[43mtextprops\u001b[49m\u001b[43m,\u001b[49m\n\u001b[1;32m   3690\u001b[0m \u001b[43m        \u001b[49m\u001b[43mcenter\u001b[49m\u001b[38;5;241;43m=\u001b[39;49m\u001b[43mcenter\u001b[49m\u001b[43m,\u001b[49m\n\u001b[1;32m   3691\u001b[0m \u001b[43m        \u001b[49m\u001b[43mframe\u001b[49m\u001b[38;5;241;43m=\u001b[39;49m\u001b[43mframe\u001b[49m\u001b[43m,\u001b[49m\n\u001b[1;32m   3692\u001b[0m \u001b[43m        \u001b[49m\u001b[43mrotatelabels\u001b[49m\u001b[38;5;241;43m=\u001b[39;49m\u001b[43mrotatelabels\u001b[49m\u001b[43m,\u001b[49m\n\u001b[1;32m   3693\u001b[0m \u001b[43m        \u001b[49m\u001b[43mnormalize\u001b[49m\u001b[38;5;241;43m=\u001b[39;49m\u001b[43mnormalize\u001b[49m\u001b[43m,\u001b[49m\n\u001b[1;32m   3694\u001b[0m \u001b[43m        \u001b[49m\u001b[43mhatch\u001b[49m\u001b[38;5;241;43m=\u001b[39;49m\u001b[43mhatch\u001b[49m\u001b[43m,\u001b[49m\n\u001b[1;32m   3695\u001b[0m \u001b[43m        \u001b[49m\u001b[38;5;241;43m*\u001b[39;49m\u001b[38;5;241;43m*\u001b[39;49m\u001b[43m(\u001b[49m\u001b[43m{\u001b[49m\u001b[38;5;124;43m\"\u001b[39;49m\u001b[38;5;124;43mdata\u001b[39;49m\u001b[38;5;124;43m\"\u001b[39;49m\u001b[43m:\u001b[49m\u001b[43m \u001b[49m\u001b[43mdata\u001b[49m\u001b[43m}\u001b[49m\u001b[43m \u001b[49m\u001b[38;5;28;43;01mif\u001b[39;49;00m\u001b[43m \u001b[49m\u001b[43mdata\u001b[49m\u001b[43m \u001b[49m\u001b[38;5;129;43;01mis\u001b[39;49;00m\u001b[43m \u001b[49m\u001b[38;5;129;43;01mnot\u001b[39;49;00m\u001b[43m \u001b[49m\u001b[38;5;28;43;01mNone\u001b[39;49;00m\u001b[43m \u001b[49m\u001b[38;5;28;43;01melse\u001b[39;49;00m\u001b[43m \u001b[49m\u001b[43m{\u001b[49m\u001b[43m}\u001b[49m\u001b[43m)\u001b[49m\u001b[43m,\u001b[49m\n\u001b[1;32m   3696\u001b[0m \u001b[43m    \u001b[49m\u001b[43m)\u001b[49m\n",
      "File \u001b[0;32m/opt/anaconda3/envs/sentiment/lib/python3.9/site-packages/matplotlib/__init__.py:1473\u001b[0m, in \u001b[0;36m_preprocess_data.<locals>.inner\u001b[0;34m(ax, data, *args, **kwargs)\u001b[0m\n\u001b[1;32m   1470\u001b[0m \u001b[38;5;129m@functools\u001b[39m\u001b[38;5;241m.\u001b[39mwraps(func)\n\u001b[1;32m   1471\u001b[0m \u001b[38;5;28;01mdef\u001b[39;00m \u001b[38;5;21minner\u001b[39m(ax, \u001b[38;5;241m*\u001b[39margs, data\u001b[38;5;241m=\u001b[39m\u001b[38;5;28;01mNone\u001b[39;00m, \u001b[38;5;241m*\u001b[39m\u001b[38;5;241m*\u001b[39mkwargs):\n\u001b[1;32m   1472\u001b[0m     \u001b[38;5;28;01mif\u001b[39;00m data \u001b[38;5;129;01mis\u001b[39;00m \u001b[38;5;28;01mNone\u001b[39;00m:\n\u001b[0;32m-> 1473\u001b[0m         \u001b[38;5;28;01mreturn\u001b[39;00m \u001b[43mfunc\u001b[49m\u001b[43m(\u001b[49m\n\u001b[1;32m   1474\u001b[0m \u001b[43m            \u001b[49m\u001b[43max\u001b[49m\u001b[43m,\u001b[49m\n\u001b[1;32m   1475\u001b[0m \u001b[43m            \u001b[49m\u001b[38;5;241;43m*\u001b[39;49m\u001b[38;5;28;43mmap\u001b[39;49m\u001b[43m(\u001b[49m\u001b[43msanitize_sequence\u001b[49m\u001b[43m,\u001b[49m\u001b[43m \u001b[49m\u001b[43margs\u001b[49m\u001b[43m)\u001b[49m\u001b[43m,\u001b[49m\n\u001b[1;32m   1476\u001b[0m \u001b[43m            \u001b[49m\u001b[38;5;241;43m*\u001b[39;49m\u001b[38;5;241;43m*\u001b[39;49m\u001b[43m{\u001b[49m\u001b[43mk\u001b[49m\u001b[43m:\u001b[49m\u001b[43m \u001b[49m\u001b[43msanitize_sequence\u001b[49m\u001b[43m(\u001b[49m\u001b[43mv\u001b[49m\u001b[43m)\u001b[49m\u001b[43m \u001b[49m\u001b[38;5;28;43;01mfor\u001b[39;49;00m\u001b[43m \u001b[49m\u001b[43mk\u001b[49m\u001b[43m,\u001b[49m\u001b[43m \u001b[49m\u001b[43mv\u001b[49m\u001b[43m \u001b[49m\u001b[38;5;129;43;01min\u001b[39;49;00m\u001b[43m \u001b[49m\u001b[43mkwargs\u001b[49m\u001b[38;5;241;43m.\u001b[39;49m\u001b[43mitems\u001b[49m\u001b[43m(\u001b[49m\u001b[43m)\u001b[49m\u001b[43m}\u001b[49m\u001b[43m)\u001b[49m\n\u001b[1;32m   1478\u001b[0m     bound \u001b[38;5;241m=\u001b[39m new_sig\u001b[38;5;241m.\u001b[39mbind(ax, \u001b[38;5;241m*\u001b[39margs, \u001b[38;5;241m*\u001b[39m\u001b[38;5;241m*\u001b[39mkwargs)\n\u001b[1;32m   1479\u001b[0m     auto_label \u001b[38;5;241m=\u001b[39m (bound\u001b[38;5;241m.\u001b[39marguments\u001b[38;5;241m.\u001b[39mget(label_namer)\n\u001b[1;32m   1480\u001b[0m                   \u001b[38;5;129;01mor\u001b[39;00m bound\u001b[38;5;241m.\u001b[39mkwargs\u001b[38;5;241m.\u001b[39mget(label_namer))\n",
      "File \u001b[0;32m/opt/anaconda3/envs/sentiment/lib/python3.9/site-packages/matplotlib/axes/_axes.py:3300\u001b[0m, in \u001b[0;36mAxes.pie\u001b[0;34m(self, x, explode, labels, colors, autopct, pctdistance, shadow, labeldistance, startangle, radius, counterclock, wedgeprops, textprops, center, frame, rotatelabels, normalize, hatch)\u001b[0m\n\u001b[1;32m   3298\u001b[0m     \u001b[38;5;28;01mraise\u001b[39;00m \u001b[38;5;167;01mValueError\u001b[39;00m(\u001b[38;5;124m\"\u001b[39m\u001b[38;5;124m'\u001b[39m\u001b[38;5;124mlabel\u001b[39m\u001b[38;5;124m'\u001b[39m\u001b[38;5;124m must be of length \u001b[39m\u001b[38;5;124m'\u001b[39m\u001b[38;5;124mx\u001b[39m\u001b[38;5;124m'\u001b[39m\u001b[38;5;124m\"\u001b[39m)\n\u001b[1;32m   3299\u001b[0m \u001b[38;5;28;01mif\u001b[39;00m \u001b[38;5;28mlen\u001b[39m(x) \u001b[38;5;241m!=\u001b[39m \u001b[38;5;28mlen\u001b[39m(explode):\n\u001b[0;32m-> 3300\u001b[0m     \u001b[38;5;28;01mraise\u001b[39;00m \u001b[38;5;167;01mValueError\u001b[39;00m(\u001b[38;5;124m\"\u001b[39m\u001b[38;5;124m'\u001b[39m\u001b[38;5;124mexplode\u001b[39m\u001b[38;5;124m'\u001b[39m\u001b[38;5;124m must be of length \u001b[39m\u001b[38;5;124m'\u001b[39m\u001b[38;5;124mx\u001b[39m\u001b[38;5;124m'\u001b[39m\u001b[38;5;124m\"\u001b[39m)\n\u001b[1;32m   3301\u001b[0m \u001b[38;5;28;01mif\u001b[39;00m colors \u001b[38;5;129;01mis\u001b[39;00m \u001b[38;5;28;01mNone\u001b[39;00m:\n\u001b[1;32m   3302\u001b[0m     get_next_color \u001b[38;5;241m=\u001b[39m \u001b[38;5;28mself\u001b[39m\u001b[38;5;241m.\u001b[39m_get_patches_for_fill\u001b[38;5;241m.\u001b[39mget_next_color\n",
      "\u001b[0;31mValueError\u001b[0m: 'explode' must be of length 'x'"
     ]
    },
    {
     "data": {
      "image/png": "[encoded data removed]",
      "text/plain": [
       "<Figure size 500x500 with 1 Axes>"
      ]
     },
     "metadata": {},
     "output_type": "display_data"
    }
   ],
   "source": [
    "vader_counts= lemma_data['Vader Analysis'].value_counts()\n",
    "plt.figure(figsize=(5, 5))\n",
    "plt.pie(vader_counts.values, labels = vader_counts.index, explode = (0.1, 0, 0), autopct='%1.1f%%', shadow=False)\n",
    "plt.show()"
   ]
  },
  {
   "cell_type": "code",
   "execution_count": 76,
   "metadata": {},
   "outputs": [
    {
     "data": {
      "text/html": [
       "<div>\n",
       "<style scoped>\n",
       "    .dataframe tbody tr th:only-of-type {\n",
       "        vertical-align: middle;\n",
       "    }\n",
       "\n",
       "    .dataframe tbody tr th {\n",
       "        vertical-align: top;\n",
       "    }\n",
       "\n",
       "    .dataframe thead th {\n",
       "        text-align: right;\n",
       "    }\n",
       "</style>\n",
       "<table border=\"1\" class=\"dataframe\">\n",
       "  <thead>\n",
       "    <tr style=\"text-align: right;\">\n",
       "      <th></th>\n",
       "      <th>text</th>\n",
       "      <th>Lemma</th>\n",
       "      <th>Polarity</th>\n",
       "      <th>Analysis</th>\n",
       "      <th>Vader Sentiment</th>\n",
       "      <th>Vader Analysis</th>\n",
       "      <th>SWN analysis</th>\n",
       "    </tr>\n",
       "  </thead>\n",
       "  <tbody>\n",
       "    <tr>\n",
       "      <th>0</th>\n",
       "      <td>Data,Entry</td>\n",
       "      <td>Data Entry</td>\n",
       "      <td>0.000000</td>\n",
       "      <td>Neutral</td>\n",
       "      <td>0.0000</td>\n",
       "      <td>Neutral</td>\n",
       "      <td>Neutral</td>\n",
       "    </tr>\n",
       "    <tr>\n",
       "      <th>1</th>\n",
       "      <td>12 September,\"Fresh book, fresh start. With th...</td>\n",
       "      <td>September Fresh book fresh start go try stay...</td>\n",
       "      <td>0.218045</td>\n",
       "      <td>Positive</td>\n",
       "      <td>0.9919</td>\n",
       "      <td>Positive</td>\n",
       "      <td>Positive</td>\n",
       "    </tr>\n",
       "    <tr>\n",
       "      <th>2</th>\n",
       "      <td>13 September,\"I had a really good day yesterda...</td>\n",
       "      <td>September really good day yesterday chat mum...</td>\n",
       "      <td>0.187338</td>\n",
       "      <td>Positive</td>\n",
       "      <td>0.6901</td>\n",
       "      <td>Positive</td>\n",
       "      <td>Positive</td>\n",
       "    </tr>\n",
       "    <tr>\n",
       "      <th>3</th>\n",
       "      <td>14 September,\"Today has not been so good but n...</td>\n",
       "      <td>September Today good totally lose go May Hil...</td>\n",
       "      <td>0.060000</td>\n",
       "      <td>Positive</td>\n",
       "      <td>0.1960</td>\n",
       "      <td>Neutral</td>\n",
       "      <td>Positive</td>\n",
       "    </tr>\n",
       "    <tr>\n",
       "      <th>4</th>\n",
       "      <td>16 September,\"Dear Anna, I want you to know ho...</td>\n",
       "      <td>September Dear Anna want know much love love...</td>\n",
       "      <td>0.471429</td>\n",
       "      <td>Positive</td>\n",
       "      <td>0.9870</td>\n",
       "      <td>Positive</td>\n",
       "      <td>Positive</td>\n",
       "    </tr>\n",
       "  </tbody>\n",
       "</table>\n",
       "</div>"
      ],
      "text/plain": [
       "                                                text  \\\n",
       "0                                         Data,Entry   \n",
       "1  12 September,\"Fresh book, fresh start. With th...   \n",
       "2  13 September,\"I had a really good day yesterda...   \n",
       "3  14 September,\"Today has not been so good but n...   \n",
       "4  16 September,\"Dear Anna, I want you to know ho...   \n",
       "\n",
       "                                               Lemma  Polarity  Analysis  \\\n",
       "0                                         Data Entry  0.000000   Neutral   \n",
       "1    September Fresh book fresh start go try stay...  0.218045  Positive   \n",
       "2    September really good day yesterday chat mum...  0.187338  Positive   \n",
       "3    September Today good totally lose go May Hil...  0.060000  Positive   \n",
       "4    September Dear Anna want know much love love...  0.471429  Positive   \n",
       "\n",
       "   Vader Sentiment Vader Analysis SWN analysis  \n",
       "0           0.0000        Neutral      Neutral  \n",
       "1           0.9919       Positive     Positive  \n",
       "2           0.6901       Positive     Positive  \n",
       "3           0.1960        Neutral     Positive  \n",
       "4           0.9870       Positive     Positive  "
      ]
     },
     "execution_count": 76,
     "metadata": {},
     "output_type": "execute_result"
    }
   ],
   "source": [
    "def sentiwordnetanalysis(pos_data):\n",
    "    sentiment = 0\n",
    "    tokens_count = 0\n",
    "    for word, pos in pos_data:\n",
    "        if not pos:\n",
    "            continue\n",
    "        lemma = wordnet_lemmatizer.lemmatize(word, pos=pos)\n",
    "        if not lemma:\n",
    "            continue\n",
    "        synsets = wordnet.synsets(lemma, pos=pos)\n",
    "        if not synsets:\n",
    "            continue\n",
    "        # Take the first sense, the most common\n",
    "        synset = synsets[0]\n",
    "        swn_synset = swn.senti_synset(synset.name())\n",
    "        sentiment += swn_synset.pos_score() - swn_synset.neg_score()\n",
    "        tokens_count += 1\n",
    "        # print(swn_synset.pos_score(),swn_synset.neg_score(),swn_synset.obj_score())\n",
    "    if not tokens_count:\n",
    "        return 0\n",
    "    if sentiment>0:\n",
    "        return \"Positive\"\n",
    "    if sentiment==0:\n",
    "        return \"Neutral\"\n",
    "    else:\n",
    "        return \"Negative\"\n",
    "\n",
    "lemma_data['SWN analysis'] = sentiment['POS tagged'].apply(sentiwordnetanalysis)\n",
    "lemma_data.head()"
   ]
  },
  {
   "cell_type": "code",
   "execution_count": 77,
   "metadata": {},
   "outputs": [
    {
     "data": {
      "text/plain": [
       "SWN analysis\n",
       "Positive    82\n",
       "Negative     4\n",
       "Neutral      1\n",
       "Name: count, dtype: int64"
      ]
     },
     "execution_count": 77,
     "metadata": {},
     "output_type": "execute_result"
    }
   ],
   "source": [
    "swn_counts= lemma_data['SWN analysis'].value_counts()\n",
    "swn_counts\n"
   ]
  },
  {
   "cell_type": "code",
   "execution_count": 78,
   "metadata": {},
   "outputs": [
    {
     "data": {
      "image/png": "[encoded data removed]",
      "text/plain": [
       "<Figure size 500x500 with 1 Axes>"
      ]
     },
     "metadata": {},
     "output_type": "display_data"
    }
   ],
   "source": [
    "swn_counts= lemma_data['SWN analysis'].value_counts()\n",
    "plt.figure(figsize=(5, 5))\n",
    "plt.pie(swn_counts.values, labels = swn_counts.index, explode = (0.1, 0, 0), autopct='%1.1f%%', shadow=False)\n",
    "plt.show()\n"
   ]
  },
  {
   "cell_type": "markdown",
   "metadata": {},
   "source": [
    "## Using deep learning for sentiment analysis"
   ]
  },
  {
   "cell_type": "markdown",
   "metadata": {},
   "source": [
    "For this next part you have to install **tensorflow** and **Keras** in order to work. Please make sure you follow the steps for this installation acording to your operating system.\n",
    "\n",
    "Please ensure you have also installed transformers. \n",
    "\n",
    "- pip install transformers\n"
   ]
  },
  {
   "cell_type": "code",
   "execution_count": 79,
   "metadata": {},
   "outputs": [
    {
     "name": "stderr",
     "output_type": "stream",
     "text": [
      "All model checkpoint layers were used when initializing TFRobertaForSequenceClassification.\n",
      "\n",
      "All the layers of TFRobertaForSequenceClassification were initialized from the model checkpoint at arpanghoshal/EmoRoBERTa.\n",
      "If your task is similar to the task the model of the checkpoint was trained on, you can already use TFRobertaForSequenceClassification for predictions without further training.\n",
      "All model checkpoint layers were used when initializing TFRobertaForSequenceClassification.\n",
      "\n",
      "All the layers of TFRobertaForSequenceClassification were initialized from the model checkpoint at arpanghoshal/EmoRoBERTa.\n",
      "If your task is similar to the task the model of the checkpoint was trained on, you can already use TFRobertaForSequenceClassification for predictions without further training.\n"
     ]
    },
    {
     "name": "stdout",
     "output_type": "stream",
     "text": [
      "[{'label': 'neutral', 'score': 0.9967880249023438}]\n"
     ]
    }
   ],
   "source": [
    "from transformers import RobertaTokenizerFast, TFRobertaForSequenceClassification, pipeline\n",
    "\n",
    "tokenizer = RobertaTokenizerFast.from_pretrained(\"arpanghoshal/EmoRoBERTa\")\n",
    "model = TFRobertaForSequenceClassification.from_pretrained(\"arpanghoshal/EmoRoBERTa\")\n",
    "\n",
    "emotion = pipeline('sentiment-analysis', \n",
    "                    model='arpanghoshal/EmoRoBERTa')\n",
    "\n",
    "emotion_labels = emotion(sentiment['Lemma'][0])\n",
    "print(emotion_labels)"
   ]
  },
  {
   "cell_type": "code",
   "execution_count": 80,
   "metadata": {},
   "outputs": [
    {
     "name": "stdout",
     "output_type": "stream",
     "text": [
      "  September Fresh book fresh start go try stay positive enjoy little thing thing everyday try ask currently home alone London good today think Em go go IKEA Yesterday Willf get accept flat Bristol say show good night George really good birthday watch cricket Everything look believe far come important look mental health also family friend speak Dad yesterday think friendship group struggle Im use always people round think fair think also need feel need like much purpose moment back uni two week start new job next week hopefully go enjoy time home get fresh air also gon na try keep soothe inner dialogue currently direct Lots love Anna\n"
     ]
    }
   ],
   "source": [
    "print(sentiment['Lemma'][1])"
   ]
  },
  {
   "cell_type": "code",
   "execution_count": 81,
   "metadata": {},
   "outputs": [
    {
     "data": {
      "text/html": [
       "<div>\n",
       "<style scoped>\n",
       "    .dataframe tbody tr th:only-of-type {\n",
       "        vertical-align: middle;\n",
       "    }\n",
       "\n",
       "    .dataframe tbody tr th {\n",
       "        vertical-align: top;\n",
       "    }\n",
       "\n",
       "    .dataframe thead th {\n",
       "        text-align: right;\n",
       "    }\n",
       "</style>\n",
       "<table border=\"1\" class=\"dataframe\">\n",
       "  <thead>\n",
       "    <tr style=\"text-align: right;\">\n",
       "      <th></th>\n",
       "      <th>text</th>\n",
       "      <th>Lemma</th>\n",
       "      <th>Polarity</th>\n",
       "      <th>Analysis</th>\n",
       "      <th>Vader Sentiment</th>\n",
       "      <th>Vader Analysis</th>\n",
       "      <th>SWN analysis</th>\n",
       "      <th>Berta</th>\n",
       "    </tr>\n",
       "  </thead>\n",
       "  <tbody>\n",
       "    <tr>\n",
       "      <th>0</th>\n",
       "      <td>Data,Entry</td>\n",
       "      <td>Data Entry</td>\n",
       "      <td>0.000000</td>\n",
       "      <td>Neutral</td>\n",
       "      <td>0.0000</td>\n",
       "      <td>Neutral</td>\n",
       "      <td>Neutral</td>\n",
       "      <td>[{'label': 'neutral', 'score': 0.9967880249023...</td>\n",
       "    </tr>\n",
       "    <tr>\n",
       "      <th>1</th>\n",
       "      <td>12 September,\"Fresh book, fresh start. With th...</td>\n",
       "      <td>September Fresh book fresh start go try stay...</td>\n",
       "      <td>0.218045</td>\n",
       "      <td>Positive</td>\n",
       "      <td>0.9919</td>\n",
       "      <td>Positive</td>\n",
       "      <td>Positive</td>\n",
       "      <td>[{'label': 'joy', 'score': 0.6414938569068909}]</td>\n",
       "    </tr>\n",
       "    <tr>\n",
       "      <th>2</th>\n",
       "      <td>13 September,\"I had a really good day yesterda...</td>\n",
       "      <td>September really good day yesterday chat mum...</td>\n",
       "      <td>0.187338</td>\n",
       "      <td>Positive</td>\n",
       "      <td>0.6901</td>\n",
       "      <td>Positive</td>\n",
       "      <td>Positive</td>\n",
       "      <td>[{'label': 'neutral', 'score': 0.9708040356636...</td>\n",
       "    </tr>\n",
       "    <tr>\n",
       "      <th>3</th>\n",
       "      <td>14 September,\"Today has not been so good but n...</td>\n",
       "      <td>September Today good totally lose go May Hil...</td>\n",
       "      <td>0.060000</td>\n",
       "      <td>Positive</td>\n",
       "      <td>0.1960</td>\n",
       "      <td>Neutral</td>\n",
       "      <td>Positive</td>\n",
       "      <td>[{'label': 'amusement', 'score': 0.44898363947...</td>\n",
       "    </tr>\n",
       "    <tr>\n",
       "      <th>4</th>\n",
       "      <td>16 September,\"Dear Anna, I want you to know ho...</td>\n",
       "      <td>September Dear Anna want know much love love...</td>\n",
       "      <td>0.471429</td>\n",
       "      <td>Positive</td>\n",
       "      <td>0.9870</td>\n",
       "      <td>Positive</td>\n",
       "      <td>Positive</td>\n",
       "      <td>[{'label': 'love', 'score': 0.9859309196472168}]</td>\n",
       "    </tr>\n",
       "  </tbody>\n",
       "</table>\n",
       "</div>"
      ],
      "text/plain": [
       "                                                text  \\\n",
       "0                                         Data,Entry   \n",
       "1  12 September,\"Fresh book, fresh start. With th...   \n",
       "2  13 September,\"I had a really good day yesterda...   \n",
       "3  14 September,\"Today has not been so good but n...   \n",
       "4  16 September,\"Dear Anna, I want you to know ho...   \n",
       "\n",
       "                                               Lemma  Polarity  Analysis  \\\n",
       "0                                         Data Entry  0.000000   Neutral   \n",
       "1    September Fresh book fresh start go try stay...  0.218045  Positive   \n",
       "2    September really good day yesterday chat mum...  0.187338  Positive   \n",
       "3    September Today good totally lose go May Hil...  0.060000  Positive   \n",
       "4    September Dear Anna want know much love love...  0.471429  Positive   \n",
       "\n",
       "   Vader Sentiment Vader Analysis SWN analysis  \\\n",
       "0           0.0000        Neutral      Neutral   \n",
       "1           0.9919       Positive     Positive   \n",
       "2           0.6901       Positive     Positive   \n",
       "3           0.1960        Neutral     Positive   \n",
       "4           0.9870       Positive     Positive   \n",
       "\n",
       "                                               Berta  \n",
       "0  [{'label': 'neutral', 'score': 0.9967880249023...  \n",
       "1    [{'label': 'joy', 'score': 0.6414938569068909}]  \n",
       "2  [{'label': 'neutral', 'score': 0.9708040356636...  \n",
       "3  [{'label': 'amusement', 'score': 0.44898363947...  \n",
       "4   [{'label': 'love', 'score': 0.9859309196472168}]  "
      ]
     },
     "execution_count": 81,
     "metadata": {},
     "output_type": "execute_result"
    }
   ],
   "source": [
    "lemma_data['Berta'] = sentiment['Lemma'].apply(emotion)\n",
    "lemma_data.head()"
   ]
  },
  {
   "cell_type": "code",
   "execution_count": 82,
   "metadata": {},
   "outputs": [],
   "source": [
    "# https://www.freecodecamp.org/news/dataframe-to-csv-how-to-save-pandas-dataframes-by-exporting/\n",
    "\n",
    "lemma_data.to_csv('data/sentiment_analysis.csv', index=False)"
   ]
  },
  {
   "cell_type": "code",
   "execution_count": null,
   "metadata": {},
   "outputs": [],
   "source": []
  }
 ],
 "metadata": {
  "kernelspec": {
   "display_name": "sentiment",
   "language": "python",
   "name": "python3"
  },
  "language_info": {
   "codemirror_mode": {
    "name": "ipython",
    "version": 3
   },
   "file_extension": ".py",
   "mimetype": "text/x-python",
   "name": "python",
   "nbconvert_exporter": "python",
   "pygments_lexer": "ipython3",
   "version": "3.9.19"
  }
 },
 "nbformat": 4,
 "nbformat_minor": 2
}
